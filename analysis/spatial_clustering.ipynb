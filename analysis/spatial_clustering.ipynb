{
 "cells": [
  {
   "cell_type": "code",
   "execution_count": 59,
   "metadata": {
    "collapsed": false
   },
   "outputs": [],
   "source": [
    "import pandas as pd\n",
    "import numpy as np\n",
    "import statsmodels.formula.api as smf\n",
    "import matplotlib.pyplot as plt\n",
    "import os\n",
    "import json\n",
    "import geopandas\n",
    "s = json.load(open(os.getenv('PUI2015')+'/plotstyle.json'))\n",
    "plt.rcParams.update(s)\n",
    "%matplotlib inline"
   ]
  },
  {
   "cell_type": "code",
   "execution_count": 3,
   "metadata": {
    "collapsed": false
   },
   "outputs": [],
   "source": [
    "# have a quick look at the data\n",
    "path = os.getenv('ADS') + '/project/sh_test.csv'\n",
    "data = pd.read_csv(path)"
   ]
  },
  {
   "cell_type": "code",
   "execution_count": 5,
   "metadata": {
    "collapsed": false
   },
   "outputs": [],
   "source": [
    "catValues = sorted(data['genCategory'].unique())"
   ]
  },
  {
   "cell_type": "code",
   "execution_count": 6,
   "metadata": {
    "collapsed": true
   },
   "outputs": [],
   "source": [
    "# create a dictionary of string-int pair.\n",
    "unique = {catValues[i]:i for i in range(len(catValues))}\n",
    "# set the numerical value of NaNs to np.nan\n",
    "unique[np.nan] = np.nan"
   ]
  },
  {
   "cell_type": "code",
   "execution_count": 7,
   "metadata": {
    "collapsed": false
   },
   "outputs": [
    {
     "data": {
      "text/html": [
       "<div>\n",
       "<table border=\"1\" class=\"dataframe\">\n",
       "  <thead>\n",
       "    <tr style=\"text-align: right;\">\n",
       "      <th></th>\n",
       "      <th>genCategory</th>\n",
       "      <th>CateValue</th>\n",
       "    </tr>\n",
       "  </thead>\n",
       "  <tbody>\n",
       "    <tr>\n",
       "      <th>0</th>\n",
       "      <td>NaN</td>\n",
       "      <td>NaN</td>\n",
       "    </tr>\n",
       "    <tr>\n",
       "      <th>1</th>\n",
       "      <td>Arts &amp; Entertainment</td>\n",
       "      <td>1</td>\n",
       "    </tr>\n",
       "    <tr>\n",
       "      <th>2</th>\n",
       "      <td>College &amp; University</td>\n",
       "      <td>2</td>\n",
       "    </tr>\n",
       "    <tr>\n",
       "      <th>3</th>\n",
       "      <td>Event</td>\n",
       "      <td>3</td>\n",
       "    </tr>\n",
       "    <tr>\n",
       "      <th>4</th>\n",
       "      <td>Food</td>\n",
       "      <td>4</td>\n",
       "    </tr>\n",
       "    <tr>\n",
       "      <th>5</th>\n",
       "      <td>Nightlife Spot</td>\n",
       "      <td>5</td>\n",
       "    </tr>\n",
       "    <tr>\n",
       "      <th>6</th>\n",
       "      <td>Outdoors &amp; Recreation</td>\n",
       "      <td>6</td>\n",
       "    </tr>\n",
       "    <tr>\n",
       "      <th>7</th>\n",
       "      <td>Professional &amp; Other Places</td>\n",
       "      <td>7</td>\n",
       "    </tr>\n",
       "    <tr>\n",
       "      <th>8</th>\n",
       "      <td>Residence</td>\n",
       "      <td>8</td>\n",
       "    </tr>\n",
       "    <tr>\n",
       "      <th>9</th>\n",
       "      <td>Shop &amp; Service</td>\n",
       "      <td>9</td>\n",
       "    </tr>\n",
       "    <tr>\n",
       "      <th>10</th>\n",
       "      <td>Travel &amp; Transport</td>\n",
       "      <td>10</td>\n",
       "    </tr>\n",
       "  </tbody>\n",
       "</table>\n",
       "</div>"
      ],
      "text/plain": [
       "                    genCategory  CateValue\n",
       "0                           NaN        NaN\n",
       "1          Arts & Entertainment          1\n",
       "2          College & University          2\n",
       "3                         Event          3\n",
       "4                          Food          4\n",
       "5                Nightlife Spot          5\n",
       "6         Outdoors & Recreation          6\n",
       "7   Professional & Other Places          7\n",
       "8                     Residence          8\n",
       "9                Shop & Service          9\n",
       "10           Travel & Transport         10"
      ]
     },
     "execution_count": 7,
     "metadata": {},
     "output_type": "execute_result"
    }
   ],
   "source": [
    "# transform the dic into a dataframe\n",
    "cateValues = pd.DataFrame(unique, \n",
    "                      index=[1]).T.reset_index().rename(columns={'index':'genCategory',\n",
    "                                                                 1:'CateValue'})\n",
    "cateValues"
   ]
  },
  {
   "cell_type": "code",
   "execution_count": 8,
   "metadata": {
    "collapsed": false
   },
   "outputs": [
    {
     "name": "stdout",
     "output_type": "stream",
     "text": [
      "(10075, 20)\n"
     ]
    },
    {
     "data": {
      "text/html": [
       "<div>\n",
       "<table border=\"1\" class=\"dataframe\">\n",
       "  <thead>\n",
       "    <tr style=\"text-align: right;\">\n",
       "      <th></th>\n",
       "      <th>genCategory</th>\n",
       "      <th>category</th>\n",
       "      <th>name</th>\n",
       "      <th>lon</th>\n",
       "      <th>lat</th>\n",
       "      <th>checkIns</th>\n",
       "      <th>tips</th>\n",
       "      <th>users</th>\n",
       "      <th>createdAt</th>\n",
       "      <th>tileID</th>\n",
       "      <th>ID</th>\n",
       "      <th>query</th>\n",
       "      <th>time</th>\n",
       "      <th>verified</th>\n",
       "      <th>price</th>\n",
       "      <th>rating</th>\n",
       "      <th>tags</th>\n",
       "      <th>photoCount</th>\n",
       "      <th>description</th>\n",
       "      <th>CateValue</th>\n",
       "    </tr>\n",
       "  </thead>\n",
       "  <tbody>\n",
       "    <tr>\n",
       "      <th>0</th>\n",
       "      <td>Travel &amp; Transport</td>\n",
       "      <td>Hotel</td>\n",
       "      <td>上海天禧嘉福酒店 Skyfortune Boutique Hotel</td>\n",
       "      <td>121.390842</td>\n",
       "      <td>31.183345</td>\n",
       "      <td>217</td>\n",
       "      <td>3</td>\n",
       "      <td>136</td>\n",
       "      <td>2011.09.21</td>\n",
       "      <td>0_00_00_00_10</td>\n",
       "      <td>4e79a8e88877bac8d1cbbfbd</td>\n",
       "      <td>China_Shanghai</td>\n",
       "      <td>2015.11.08 22:54:55</td>\n",
       "      <td>False</td>\n",
       "      <td>-1</td>\n",
       "      <td>-1</td>\n",
       "      <td>NaN</td>\n",
       "      <td>23</td>\n",
       "      <td>NaN</td>\n",
       "      <td>10</td>\n",
       "    </tr>\n",
       "    <tr>\n",
       "      <th>1</th>\n",
       "      <td>NaN</td>\n",
       "      <td>Szechuan Restaurant</td>\n",
       "      <td>四川香天下</td>\n",
       "      <td>121.392031</td>\n",
       "      <td>31.183549</td>\n",
       "      <td>9</td>\n",
       "      <td>0</td>\n",
       "      <td>3</td>\n",
       "      <td>2015.08.01</td>\n",
       "      <td>0_00_00_00_10</td>\n",
       "      <td>55bcad8a498e6bfc6d59ee71</td>\n",
       "      <td>China_Shanghai</td>\n",
       "      <td>2015.11.08 22:54:55</td>\n",
       "      <td>False</td>\n",
       "      <td>-1</td>\n",
       "      <td>-1</td>\n",
       "      <td>NaN</td>\n",
       "      <td>1</td>\n",
       "      <td>NaN</td>\n",
       "      <td>NaN</td>\n",
       "    </tr>\n",
       "    <tr>\n",
       "      <th>2</th>\n",
       "      <td>Outdoors &amp; Recreation</td>\n",
       "      <td>Golf Course</td>\n",
       "      <td>Hongqiao Golf Driving range</td>\n",
       "      <td>121.386053</td>\n",
       "      <td>31.187153</td>\n",
       "      <td>169</td>\n",
       "      <td>3</td>\n",
       "      <td>82</td>\n",
       "      <td>2012.04.02</td>\n",
       "      <td>0_00_00_00_10</td>\n",
       "      <td>4f79acbfe4b0795c3a0102d6</td>\n",
       "      <td>China_Shanghai</td>\n",
       "      <td>2015.11.08 22:54:56</td>\n",
       "      <td>False</td>\n",
       "      <td>-1</td>\n",
       "      <td>-1</td>\n",
       "      <td>NaN</td>\n",
       "      <td>12</td>\n",
       "      <td>NaN</td>\n",
       "      <td>6</td>\n",
       "    </tr>\n",
       "    <tr>\n",
       "      <th>3</th>\n",
       "      <td>Shop &amp; Service</td>\n",
       "      <td>Electronics Store</td>\n",
       "      <td>蘇寧電器吳中路</td>\n",
       "      <td>121.389871</td>\n",
       "      <td>31.182312</td>\n",
       "      <td>10</td>\n",
       "      <td>0</td>\n",
       "      <td>6</td>\n",
       "      <td>2013.01.06</td>\n",
       "      <td>0_00_00_00_10</td>\n",
       "      <td>50e91cfae4b09c384603f0fa</td>\n",
       "      <td>China_Shanghai</td>\n",
       "      <td>2015.11.08 22:54:56</td>\n",
       "      <td>False</td>\n",
       "      <td>-1</td>\n",
       "      <td>-1</td>\n",
       "      <td>NaN</td>\n",
       "      <td>2</td>\n",
       "      <td>NaN</td>\n",
       "      <td>9</td>\n",
       "    </tr>\n",
       "    <tr>\n",
       "      <th>4</th>\n",
       "      <td>Food</td>\n",
       "      <td>Japanese Restaurant</td>\n",
       "      <td>龙之介炉端烧</td>\n",
       "      <td>121.387928</td>\n",
       "      <td>31.182557</td>\n",
       "      <td>120</td>\n",
       "      <td>1</td>\n",
       "      <td>51</td>\n",
       "      <td>2010.08.20</td>\n",
       "      <td>0_00_00_00_10</td>\n",
       "      <td>4c6e686c65eda093bd4251d0</td>\n",
       "      <td>China_Shanghai</td>\n",
       "      <td>2015.11.08 22:54:56</td>\n",
       "      <td>False</td>\n",
       "      <td>-1</td>\n",
       "      <td>-1</td>\n",
       "      <td>NaN</td>\n",
       "      <td>8</td>\n",
       "      <td>NaN</td>\n",
       "      <td>4</td>\n",
       "    </tr>\n",
       "  </tbody>\n",
       "</table>\n",
       "</div>"
      ],
      "text/plain": [
       "             genCategory             category  \\\n",
       "0     Travel & Transport                Hotel   \n",
       "1                    NaN  Szechuan Restaurant   \n",
       "2  Outdoors & Recreation          Golf Course   \n",
       "3         Shop & Service    Electronics Store   \n",
       "4                   Food  Japanese Restaurant   \n",
       "\n",
       "                                 name         lon        lat  checkIns  tips  \\\n",
       "0  上海天禧嘉福酒店 Skyfortune Boutique Hotel  121.390842  31.183345       217     3   \n",
       "1                               四川香天下  121.392031  31.183549         9     0   \n",
       "2         Hongqiao Golf Driving range  121.386053  31.187153       169     3   \n",
       "3                             蘇寧電器吳中路  121.389871  31.182312        10     0   \n",
       "4                              龙之介炉端烧  121.387928  31.182557       120     1   \n",
       "\n",
       "   users    createdAt         tileID                        ID  \\\n",
       "0    136  2011.09.21   0_00_00_00_10  4e79a8e88877bac8d1cbbfbd   \n",
       "1      3  2015.08.01   0_00_00_00_10  55bcad8a498e6bfc6d59ee71   \n",
       "2     82  2012.04.02   0_00_00_00_10  4f79acbfe4b0795c3a0102d6   \n",
       "3      6  2013.01.06   0_00_00_00_10  50e91cfae4b09c384603f0fa   \n",
       "4     51  2010.08.20   0_00_00_00_10  4c6e686c65eda093bd4251d0   \n",
       "\n",
       "            query                  time verified  price  rating tags  \\\n",
       "0  China_Shanghai  2015.11.08 22:54:55     False     -1      -1  NaN   \n",
       "1  China_Shanghai  2015.11.08 22:54:55     False     -1      -1  NaN   \n",
       "2  China_Shanghai  2015.11.08 22:54:56     False     -1      -1  NaN   \n",
       "3  China_Shanghai  2015.11.08 22:54:56     False     -1      -1  NaN   \n",
       "4  China_Shanghai  2015.11.08 22:54:56     False     -1      -1  NaN   \n",
       "\n",
       "   photoCount description  CateValue  \n",
       "0          23         NaN         10  \n",
       "1           1         NaN        NaN  \n",
       "2          12         NaN          6  \n",
       "3           2         NaN          9  \n",
       "4           8         NaN          4  "
      ]
     },
     "execution_count": 8,
     "metadata": {},
     "output_type": "execute_result"
    }
   ],
   "source": [
    "# give pair the genCategory of each row with the corresponding categorical value\n",
    "data2 = data.merge(cateValues, how='left', on='genCategory')\n",
    "print data2.shape\n",
    "data2.head()"
   ]
  },
  {
   "cell_type": "code",
   "execution_count": 173,
   "metadata": {
    "collapsed": false
   },
   "outputs": [
    {
     "data": {
      "text/plain": [
       "(4423, 20)"
      ]
     },
     "execution_count": 173,
     "metadata": {},
     "output_type": "execute_result"
    }
   ],
   "source": [
    "data3 = data2[(data2['users'] >= 5) &\n",
    "              (data2['checkIns'] >= 5)] #&\n",
    "              #(data2['CateValue'] != np.nan)]\n",
    "data3.shape"
   ]
  },
  {
   "cell_type": "code",
   "execution_count": 161,
   "metadata": {
    "collapsed": false
   },
   "outputs": [],
   "source": [
    "# print data3.shape\n",
    "# data3.head()"
   ]
  },
  {
   "cell_type": "code",
   "execution_count": 174,
   "metadata": {
    "collapsed": false
   },
   "outputs": [
    {
     "name": "stdout",
     "output_type": "stream",
     "text": [
      "(31.171115697638744, 121.38403730828294) (31.31612888083754, 121.54749870300293)\n"
     ]
    }
   ],
   "source": [
    "# calculate the square\n",
    "latMin = np.min(data3.lat)\n",
    "latMax = np.max(data3.lat)\n",
    "lonMin = np.min(data3.lon)\n",
    "lonMax = np.max(data3.lon)\n",
    "print (latmin, lonmin), (latmax, lonmax)"
   ]
  },
  {
   "cell_type": "code",
   "execution_count": 175,
   "metadata": {
    "collapsed": false
   },
   "outputs": [],
   "source": [
    "NumRow = 20\n",
    "NumCol = 20\n",
    "latStep = (latMax - latMin) / NumRow\n",
    "lonStep = (lonMax - lonMin) / NumCol"
   ]
  },
  {
   "cell_type": "code",
   "execution_count": 176,
   "metadata": {
    "collapsed": false,
    "scrolled": true
   },
   "outputs": [],
   "source": [
    "kernels = []\n",
    "for row in xrange(NumRow):\n",
    "    for col in xrange(NumCol):\n",
    "        kernels.append({'cell':((row*latStep+latMin, col*lonStep+lonMin), \n",
    "                        ((row+1)*latStep+latMin, (col+1)*lonStep+lonMin)),\n",
    "                        \"atrs\": {}})"
   ]
  },
  {
   "cell_type": "code",
   "execution_count": 177,
   "metadata": {
    "collapsed": false
   },
   "outputs": [],
   "source": [
    "for i in data3.T:\n",
    "    lat = data3.T[i].ix['lat']\n",
    "    lon = data3.T[i].ix['lon']\n",
    "    \n",
    "    for kernel in kernels:\n",
    "        if (lat >= kernel['cell'][0][0]) and (\n",
    "            lat < kernel['cell'][1][0]) and (\n",
    "            lon >= kernel['cell'][0][1]) and (\n",
    "            lon < kernel['cell'][1][1]):\n",
    "            kernel['atrs'][data3.T[i].ix['genCategory']] = kernel['atrs'].get(data3.T[i].ix['genCategory'],0)+1\n",
    "            break"
   ]
  },
  {
   "cell_type": "code",
   "execution_count": 178,
   "metadata": {
    "collapsed": false
   },
   "outputs": [
    {
     "data": {
      "text/plain": [
       "{'atrs': {nan: 3,\n",
       "  'Arts & Entertainment': 1,\n",
       "  'Food': 8,\n",
       "  'Outdoors & Recreation': 2,\n",
       "  'Professional & Other Places': 10,\n",
       "  'Shop & Service': 3,\n",
       "  'Travel & Transport': 3},\n",
       " 'cell': ((31.17079961051484, 121.39210882567157),\n",
       "  (31.178072729485887, 121.40033107656988))}"
      ]
     },
     "execution_count": 178,
     "metadata": {},
     "output_type": "execute_result"
    }
   ],
   "source": [
    "kernels[1]"
   ]
  },
  {
   "cell_type": "code",
   "execution_count": 179,
   "metadata": {
    "collapsed": false
   },
   "outputs": [],
   "source": [
    "for kernel in kernels:\n",
    "    kernel['total'] = sum(kernel['atrs'].values())"
   ]
  },
  {
   "cell_type": "code",
   "execution_count": 180,
   "metadata": {
    "collapsed": false
   },
   "outputs": [],
   "source": [
    "kList = []\n",
    "for kernel in kernels:\n",
    "    d = kernel['atrs']\n",
    "    d['sw'] = (kernel['cell'][0][1], kernel['cell'][0][0])\n",
    "    d['se'] = (kernel['cell'][1][1], kernel['cell'][0][0])\n",
    "    d['ne'] = (kernel['cell'][1][1], kernel['cell'][1][0])\n",
    "    d['nw'] = (kernel['cell'][0][1], kernel['cell'][1][0])\n",
    "    \n",
    "    d['total'] = (kernel['total'])\n",
    "    kList.append(d)\n",
    "\n",
    "kDF = pd.DataFrame(kList)"
   ]
  },
  {
   "cell_type": "code",
   "execution_count": 181,
   "metadata": {
    "collapsed": false
   },
   "outputs": [
    {
     "data": {
      "text/html": [
       "<div>\n",
       "<table border=\"1\" class=\"dataframe\">\n",
       "  <thead>\n",
       "    <tr style=\"text-align: right;\">\n",
       "      <th></th>\n",
       "      <th>nan</th>\n",
       "      <th>Arts &amp; Entertainment</th>\n",
       "      <th>College &amp; University</th>\n",
       "      <th>Event</th>\n",
       "      <th>Food</th>\n",
       "      <th>Nightlife Spot</th>\n",
       "      <th>Outdoors &amp; Recreation</th>\n",
       "      <th>Professional &amp; Other Places</th>\n",
       "      <th>Residence</th>\n",
       "      <th>Shop &amp; Service</th>\n",
       "      <th>Travel &amp; Transport</th>\n",
       "      <th>ne</th>\n",
       "      <th>nw</th>\n",
       "      <th>se</th>\n",
       "      <th>sw</th>\n",
       "      <th>total</th>\n",
       "    </tr>\n",
       "  </thead>\n",
       "  <tbody>\n",
       "    <tr>\n",
       "      <th>0</th>\n",
       "      <td>5</td>\n",
       "      <td>1</td>\n",
       "      <td>NaN</td>\n",
       "      <td>NaN</td>\n",
       "      <td>14</td>\n",
       "      <td>NaN</td>\n",
       "      <td>NaN</td>\n",
       "      <td>6</td>\n",
       "      <td>NaN</td>\n",
       "      <td>1</td>\n",
       "      <td>4</td>\n",
       "      <td>(121.392108826, 31.1780727295)</td>\n",
       "      <td>(121.383886575, 31.1780727295)</td>\n",
       "      <td>(121.392108826, 31.1707996105)</td>\n",
       "      <td>(121.383886575, 31.1707996105)</td>\n",
       "      <td>31</td>\n",
       "    </tr>\n",
       "    <tr>\n",
       "      <th>1</th>\n",
       "      <td>3</td>\n",
       "      <td>1</td>\n",
       "      <td>NaN</td>\n",
       "      <td>NaN</td>\n",
       "      <td>8</td>\n",
       "      <td>NaN</td>\n",
       "      <td>2</td>\n",
       "      <td>10</td>\n",
       "      <td>NaN</td>\n",
       "      <td>3</td>\n",
       "      <td>3</td>\n",
       "      <td>(121.400331077, 31.1780727295)</td>\n",
       "      <td>(121.392108826, 31.1780727295)</td>\n",
       "      <td>(121.400331077, 31.1707996105)</td>\n",
       "      <td>(121.392108826, 31.1707996105)</td>\n",
       "      <td>30</td>\n",
       "    </tr>\n",
       "    <tr>\n",
       "      <th>2</th>\n",
       "      <td>2</td>\n",
       "      <td>NaN</td>\n",
       "      <td>NaN</td>\n",
       "      <td>NaN</td>\n",
       "      <td>2</td>\n",
       "      <td>NaN</td>\n",
       "      <td>NaN</td>\n",
       "      <td>3</td>\n",
       "      <td>NaN</td>\n",
       "      <td>NaN</td>\n",
       "      <td>1</td>\n",
       "      <td>(121.408553327, 31.1780727295)</td>\n",
       "      <td>(121.400331077, 31.1780727295)</td>\n",
       "      <td>(121.408553327, 31.1707996105)</td>\n",
       "      <td>(121.400331077, 31.1707996105)</td>\n",
       "      <td>8</td>\n",
       "    </tr>\n",
       "  </tbody>\n",
       "</table>\n",
       "</div>"
      ],
      "text/plain": [
       "   NaN  Arts & Entertainment  College & University  Event  Food  \\\n",
       "0    5                     1                   NaN    NaN    14   \n",
       "1    3                     1                   NaN    NaN     8   \n",
       "2    2                   NaN                   NaN    NaN     2   \n",
       "\n",
       "   Nightlife Spot  Outdoors & Recreation  Professional & Other Places  \\\n",
       "0             NaN                    NaN                            6   \n",
       "1             NaN                      2                           10   \n",
       "2             NaN                    NaN                            3   \n",
       "\n",
       "   Residence  Shop & Service  Travel & Transport  \\\n",
       "0        NaN               1                   4   \n",
       "1        NaN               3                   3   \n",
       "2        NaN             NaN                   1   \n",
       "\n",
       "                               ne                              nw  \\\n",
       "0  (121.392108826, 31.1780727295)  (121.383886575, 31.1780727295)   \n",
       "1  (121.400331077, 31.1780727295)  (121.392108826, 31.1780727295)   \n",
       "2  (121.408553327, 31.1780727295)  (121.400331077, 31.1780727295)   \n",
       "\n",
       "                               se                              sw  total  \n",
       "0  (121.392108826, 31.1707996105)  (121.383886575, 31.1707996105)     31  \n",
       "1  (121.400331077, 31.1707996105)  (121.392108826, 31.1707996105)     30  \n",
       "2  (121.408553327, 31.1707996105)  (121.400331077, 31.1707996105)      8  "
      ]
     },
     "execution_count": 181,
     "metadata": {},
     "output_type": "execute_result"
    }
   ],
   "source": [
    "#kDF.index = xrange(100)\n",
    "kDF.head(3)"
   ]
  },
  {
   "cell_type": "code",
   "execution_count": 182,
   "metadata": {
    "collapsed": false
   },
   "outputs": [],
   "source": [
    "import pandas as pd\n",
    "import geopandas as gp\n",
    "from shapely.geometry import Polygon\n",
    "\n",
    "kDF['geometry'] = kDF.apply(lambda x: Polygon([x['sw'], x['se'], x['ne'], x['nw']]), axis=1)\n",
    "kDF = gp.GeoDataFrame(kDF)"
   ]
  },
  {
   "cell_type": "code",
   "execution_count": 183,
   "metadata": {
    "collapsed": false
   },
   "outputs": [
    {
     "data": {
      "text/plain": [
       "<matplotlib.axes._subplots.AxesSubplot at 0x12642c510>"
      ]
     },
     "execution_count": 183,
     "metadata": {},
     "output_type": "execute_result"
    },
    {
     "data": {
      "image/png": "[encoded data removed]",
      "text/plain": [
       "<matplotlib.figure.Figure at 0x1240d1fd0>"
      ]
     },
     "metadata": {},
     "output_type": "display_data"
    }
   ],
   "source": [
    "kDF.plot(figsize = (10,10), column='total', colormap='cool')"
   ]
  },
  {
   "cell_type": "code",
   "execution_count": 184,
   "metadata": {
    "collapsed": false
   },
   "outputs": [
    {
     "data": {
      "text/plain": [
       "<matplotlib.axes._subplots.AxesSubplot at 0x1290b63d0>"
      ]
     },
     "execution_count": 184,
     "metadata": {},
     "output_type": "execute_result"
    },
    {
     "data": {
      "image/png": "[encoded data removed]",
      "text/plain": [
       "<matplotlib.figure.Figure at 0x1240d1e90>"
      ]
     },
     "metadata": {},
     "output_type": "display_data"
    }
   ],
   "source": [
    "#filter only cells with over 500 complains in total\n",
    "kDF.total.hist()"
   ]
  },
  {
   "cell_type": "code",
   "execution_count": 186,
   "metadata": {
    "collapsed": false
   },
   "outputs": [
    {
     "data": {
      "image/png": "[encoded data removed]",
      "text/plain": [
       "<matplotlib.figure.Figure at 0x12a1f0e90>"
      ]
     },
     "metadata": {},
     "output_type": "display_data"
    }
   ],
   "source": [
    "kDF[kDF.total>4].plot(figsize = (10,10), column='total', colormap='cool')\n",
    "plt.savefig('kernelDensity_Shanghai.png')"
   ]
  },
  {
   "cell_type": "code",
   "execution_count": 188,
   "metadata": {
    "collapsed": false
   },
   "outputs": [
    {
     "name": "stdout",
     "output_type": "stream",
     "text": [
      "nan\n",
      "Arts & Entertainment\n",
      "College & University\n",
      "Event\n",
      "Food\n",
      "Nightlife Spot\n",
      "Outdoors & Recreation\n",
      "Professional & Other Places\n",
      "Residence\n",
      "Shop & Service\n",
      "Travel & Transport\n",
      "ne\n",
      "nw\n",
      "se\n",
      "sw\n",
      "total\n",
      "geometry\n"
     ]
    }
   ],
   "source": [
    "for x in kDF.columns.tolist(): print x"
   ]
  },
  {
   "cell_type": "code",
   "execution_count": 189,
   "metadata": {
    "collapsed": false
   },
   "outputs": [],
   "source": [
    "# normalization\n",
    "kDF.columns\n",
    "kDF2 = kDF\n",
    "\n",
    "cols = ['Arts & Entertainment','College & University','Event','Food',\n",
    "        'Nightlife Spot','Outdoors & Recreation',\n",
    "        'Professional & Other Places','Residence','Shop & Service',\n",
    "        'Travel & Transport']\n",
    "\n",
    "for col in cols:\n",
    "    kDF2[col] = kDF2[col]/kDF2.total"
   ]
  },
  {
   "cell_type": "code",
   "execution_count": 191,
   "metadata": {
    "collapsed": true
   },
   "outputs": [],
   "source": [
    "from mpl_toolkits.mplot3d import Axes3D\n",
    "from mpl_toolkits.mplot3d import proj3d\n",
    "import statsmodels.formula.api as smf\n",
    "from sklearn.cluster import KMeans\n",
    "from sklearn.metrics import silhouette_score"
   ]
  },
  {
   "cell_type": "code",
   "execution_count": 230,
   "metadata": {
    "collapsed": false
   },
   "outputs": [
    {
     "name": "stdout",
     "output_type": "stream",
     "text": [
      "2 clusters: 0.197626613132\n",
      "3 clusters: 0.239243205229\n",
      "4 clusters: 0.300705399236\n",
      "5 clusters: 0.314360485917\n",
      "6 clusters: 0.300872252436\n",
      "7 clusters: 0.322146447217\n",
      "8 clusters: 0.282697156076\n",
      "9 clusters: 0.317766242583\n",
      "10 clusters: 0.331322888298\n",
      "11 clusters: 0.334462441379\n",
      "Best for 11 clusters: 0.334294115148\n",
      "\n"
     ]
    }
   ],
   "source": [
    "s = [0]*10\n",
    "# select the best k\n",
    "for i in range(0,10):\n",
    "    est=KMeans(n_clusters=i+2,n_init=100)\n",
    "    est.fit(kDF2[cols].fillna(0))\n",
    "    s[i]=silhouette_score(kDF2[cols].fillna(0), est.labels_)\n",
    "    print('{0} clusters: {1}'.format(i+2,s[i]))\n",
    "j=np.argmax(s) # select best k value (max avg silhouette value)    \n",
    "est=KMeans(n_clusters=j+2,n_init=100)\n",
    "est.fit(kDF2[cols].fillna(0))\n",
    "labels=est.labels_\n",
    "print('Best for {0} clusters: {1}\\n'.format(j+2,silhouette_score(kDF2[cols].fillna(0), labels)))"
   ]
  },
  {
   "cell_type": "code",
   "execution_count": 232,
   "metadata": {
    "collapsed": false
   },
   "outputs": [],
   "source": [
    "est=KMeans(n_clusters=7,n_init=100)\n",
    "est.fit(kDF2[cols].fillna(0))\n",
    "labels=est.labels_"
   ]
  },
  {
   "cell_type": "code",
   "execution_count": 235,
   "metadata": {
    "collapsed": false
   },
   "outputs": [
    {
     "data": {
      "image/png": "[encoded data removed]",
      "text/plain": [
       "<matplotlib.figure.Figure at 0x13c4d89d0>"
      ]
     },
     "metadata": {},
     "output_type": "display_data"
    }
   ],
   "source": [
    "kDF2['labels'] = labels.astype(np.float)\n",
    "kDF2.plot(figsize = (10,10), column='labels', colormap='Set1')\n",
    "plt.savefig('kernelDensity_Shanghai.png')"
   ]
  },
  {
   "cell_type": "code",
   "execution_count": 234,
   "metadata": {
    "collapsed": false
   },
   "outputs": [
    {
     "name": "stdout",
     "output_type": "stream",
     "text": [
      "0.0\n",
      "Arts & Entertainment            NaN\n",
      "College & University            NaN\n",
      "Event                           NaN\n",
      "Food                            NaN\n",
      "Nightlife Spot                  NaN\n",
      "Outdoors & Recreation           NaN\n",
      "Professional & Other Places     NaN\n",
      "Residence                      0.25\n",
      "Shop & Service                  NaN\n",
      "Travel & Transport             0.75\n",
      "Name: 56, dtype: float64\n",
      "1.0\n",
      "Arts & Entertainment           0.033333\n",
      "College & University                NaN\n",
      "Event                               NaN\n",
      "Food                           0.266667\n",
      "Nightlife Spot                      NaN\n",
      "Outdoors & Recreation          0.066667\n",
      "Professional & Other Places    0.333333\n",
      "Residence                           NaN\n",
      "Shop & Service                 0.100000\n",
      "Travel & Transport             0.100000\n",
      "Name: 1, dtype: float64\n",
      "2.0\n",
      "Arts & Entertainment          NaN\n",
      "College & University          NaN\n",
      "Event                         NaN\n",
      "Food                          NaN\n",
      "Nightlife Spot                NaN\n",
      "Outdoors & Recreation         NaN\n",
      "Professional & Other Places   NaN\n",
      "Residence                     NaN\n",
      "Shop & Service                NaN\n",
      "Travel & Transport            NaN\n",
      "Name: 10, dtype: float64\n",
      "3.0\n",
      "Arts & Entertainment          NaN\n",
      "College & University          NaN\n",
      "Event                         NaN\n",
      "Food                          NaN\n",
      "Nightlife Spot                NaN\n",
      "Outdoors & Recreation         NaN\n",
      "Professional & Other Places     1\n",
      "Residence                     NaN\n",
      "Shop & Service                NaN\n",
      "Travel & Transport            NaN\n",
      "Name: 17, dtype: float64\n",
      "4.0\n",
      "Arts & Entertainment           0.032258\n",
      "College & University                NaN\n",
      "Event                               NaN\n",
      "Food                           0.451613\n",
      "Nightlife Spot                      NaN\n",
      "Outdoors & Recreation               NaN\n",
      "Professional & Other Places    0.193548\n",
      "Residence                           NaN\n",
      "Shop & Service                 0.032258\n",
      "Travel & Transport             0.129032\n",
      "Name: 0, dtype: float64\n",
      "5.0\n",
      "Arts & Entertainment          NaN\n",
      "College & University          NaN\n",
      "Event                         NaN\n",
      "Food                          NaN\n",
      "Nightlife Spot                NaN\n",
      "Outdoors & Recreation         NaN\n",
      "Professional & Other Places   NaN\n",
      "Residence                     NaN\n",
      "Shop & Service                  1\n",
      "Travel & Transport            NaN\n",
      "Name: 16, dtype: float64\n",
      "6.0\n",
      "Arts & Entertainment           NaN\n",
      "College & University           NaN\n",
      "Event                          NaN\n",
      "Food                           NaN\n",
      "Nightlife Spot                 NaN\n",
      "Outdoors & Recreation          NaN\n",
      "Professional & Other Places    NaN\n",
      "Residence                      0.5\n",
      "Shop & Service                 NaN\n",
      "Travel & Transport             NaN\n",
      "Name: 19, dtype: float64\n"
     ]
    }
   ],
   "source": [
    "x = kDF2.groupby('labels')\n",
    "\n",
    "for name, group in x:\n",
    "    print name\n",
    "    print group[cols].iloc[0]"
   ]
  },
  {
   "cell_type": "code",
   "execution_count": null,
   "metadata": {
    "collapsed": true
   },
   "outputs": [],
   "source": [
    "\n",
    "\n",
    "\n",
    "# s=[0]*20\n",
    "# for k in range(0,20):\n",
    "#     est=KMeans(n_clusters=k+2,n_init=100)\n",
    "#     est.fit(kDF2)\n",
    "#     s[k]=silhouette_score(Pl, est.labels_)\n",
    "#     print('{0} clusters: {1}'.format(k+2,s[k]))\n",
    "# k=np.argmax(s)    \n",
    "# est=KMeans(n_clusters=k+2,n_init=100)\n",
    "# est.fit(Pl)\n",
    "# labels=est.labels_\n",
    "# plt.figure(figsize=(6,8))\n",
    "# plt.scatter (x500,y500,s=30,c=labels.astype(np.float),lw=0)\n",
    "# print('{0} clusters: {1}'.format(k+2,silhouette_score(Pl, labels)))"
   ]
  },
  {
   "cell_type": "code",
   "execution_count": null,
   "metadata": {
    "collapsed": true
   },
   "outputs": [],
   "source": [
    "#normalize the matrix to deal with the relative complain type frequencies\n",
    "# X=matrix(X)\n",
    "# for z in range(0,cellnum):\n",
    "#     X[z,:]=X[z,:]/sum(X[z,:])\n",
    "# m=mean(X,0)    \n",
    "# for i in range(0,compnum):\n",
    "#     X[:,i]=(X[:,i]-m[0,i])\n",
    "# X500=X[C>500,:]"
   ]
  },
  {
   "cell_type": "code",
   "execution_count": null,
   "metadata": {
    "collapsed": true
   },
   "outputs": [],
   "source": [
    "# U, s, Vt = np.linalg.svd(X500)\n",
    "# V = Vt.T\n",
    "# ind = np.argsort(s)[::-1]\n",
    "# U = U[:, ind]\n",
    "# s = s[ind]\n",
    "# V = V[:, ind]\n",
    "# P=X500*np.matrix(V)"
   ]
  },
  {
   "cell_type": "code",
   "execution_count": null,
   "metadata": {
    "collapsed": true
   },
   "outputs": [],
   "source": [
    "#visualize amount of information covered by PCAs and take 19 leading ones covering 95% of the entire infomation\n",
    "# sc=cumsum(np.array(s)**2/sum(np.array(s)**2))\n",
    "# plt.bar(range(1,21),sc[0:20])\n",
    "# Pl=P[:,0:19]\n",
    "# print(sc[18])"
   ]
  },
  {
   "cell_type": "code",
   "execution_count": null,
   "metadata": {
    "collapsed": true
   },
   "outputs": [],
   "source": [
    "# s=[0]*20\n",
    "# for k in range(0,20):\n",
    "#     est=KMeans(n_clusters=k+2,n_init=100)\n",
    "#     est.fit(Pl)\n",
    "#     s[k]=silhouette_score(Pl, est.labels_)\n",
    "#     print('{0} clusters: {1}'.format(k+2,s[k]))\n",
    "# k=np.argmax(s)    \n",
    "# est=KMeans(n_clusters=k+2,n_init=100)\n",
    "# est.fit(Pl)\n",
    "# labels=est.labels_\n",
    "# plt.figure(figsize=(6,8))\n",
    "# plt.scatter (x500,y500,s=30,c=labels.astype(np.float),lw=0)\n",
    "# print('{0} clusters: {1}'.format(k+2,silhouette_score(Pl, labels)))"
   ]
  },
  {
   "cell_type": "code",
   "execution_count": null,
   "metadata": {
    "collapsed": true
   },
   "outputs": [],
   "source": [
    "# est=KMeans(n_clusters=4,n_init=100)\n",
    "# est.fit(Pl)\n",
    "# labels=est.labels_\n",
    "# plt.figure(figsize=(6,8))\n",
    "# colors=['blue','green','magenta','red']\n",
    "# plt.scatter (x500,y500,s=30,color=[colors[l] for l in labels],lw=0)"
   ]
  },
  {
   "cell_type": "code",
   "execution_count": null,
   "metadata": {
    "collapsed": true
   },
   "outputs": [],
   "source": [
    "# mC1=mean(X500[labels==0,:],0)\n",
    "# mC2=mean(X500[labels==1,:],0)\n",
    "# mC3=mean(X500[labels==2,:],0)\n",
    "# mC4=mean(X500[labels==3,:],0)\n",
    "# mind=find(m>0.02)\n",
    "# #print('Compain: average, red, green, blue, magenta')\n",
    "# clusters=pd.DataFrame({' ComplainType':['All'],'Avg':[1.0],'blue':[1.0],'green':[1.0],'magenta':[1.0],'red':[1.0]})\n",
    "# for c in mind:\n",
    "#     #print('{0}: {1}'.format(compinv[c],m[0,c]))\n",
    "#     clusters.loc[clusters.index.max()+1]=[compinv[c],m[0,c],m[0,c]+mC1[0,c],m[0,c]+mC2[0,c],m[0,c]+mC3[0,c],m[0,c]+mC4[0,c]]\n",
    "#     #print('{0}: {1:.3g},{2:.3g},{3:.3g},{4:.3g},{5:.3g}'.format(compinv[c],m[0,c],m[0,c]+mC1[0,c],m[0,c]+mC2[0,c],m[0,c]+mC3[0,c],m[0,c]+mC4[0,c]))\n",
    "# clusters"
   ]
  },
  {
   "cell_type": "code",
   "execution_count": 41,
   "metadata": {
    "collapsed": true
   },
   "outputs": [],
   "source": [
    "# z = {0:0,1:0,2:0}"
   ]
  },
  {
   "cell_type": "code",
   "execution_count": 42,
   "metadata": {
    "collapsed": false
   },
   "outputs": [
    {
     "data": {
      "text/plain": [
       "{0: 0, 1: 0, 2: 0, 5: 2}"
      ]
     },
     "execution_count": 42,
     "metadata": {},
     "output_type": "execute_result"
    }
   ],
   "source": [
    "# z[5] = z.get(5,0) + 2\n",
    "# z"
   ]
  },
  {
   "cell_type": "code",
   "execution_count": 43,
   "metadata": {
    "collapsed": true
   },
   "outputs": [],
   "source": [
    "# z[5] = z.get(5,0) + 2"
   ]
  },
  {
   "cell_type": "code",
   "execution_count": 44,
   "metadata": {
    "collapsed": false
   },
   "outputs": [
    {
     "data": {
      "text/plain": [
       "{0: 0, 1: 0, 2: 0, 5: 4}"
      ]
     },
     "execution_count": 44,
     "metadata": {},
     "output_type": "execute_result"
    }
   ],
   "source": [
    "# z"
   ]
  },
  {
   "cell_type": "code",
   "execution_count": null,
   "metadata": {
    "collapsed": true
   },
   "outputs": [],
   "source": []
  }
 ],
 "metadata": {
  "kernelspec": {
   "display_name": "Python 2",
   "language": "python",
   "name": "python2"
  },
  "language_info": {
   "codemirror_mode": {
    "name": "ipython",
    "version": 2
   },
   "file_extension": ".py",
   "mimetype": "text/x-python",
   "name": "python",
   "nbconvert_exporter": "python",
   "pygments_lexer": "ipython2",
   "version": "2.7.10"
  }
 },
 "nbformat": 4,
 "nbformat_minor": 0
}
